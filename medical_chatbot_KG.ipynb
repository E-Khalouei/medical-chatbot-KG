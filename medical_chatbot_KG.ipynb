{
  "nbformat": 4,
  "nbformat_minor": 0,
  "metadata": {
    "colab": {
      "provenance": [],
      "gpuType": "T4"
    },
    "kernelspec": {
      "name": "python3",
      "display_name": "Python 3"
    },
    "language_info": {
      "name": "python"
    },
    "accelerator": "GPU"
  },
  "cells": [
    {
      "cell_type": "markdown",
      "source": [
        "# Build a chatbot pipeline that generates responses based on user input without fine-tuning."
      ],
      "metadata": {
        "id": "X-J8qmhFYtu0"
      }
    },
    {
      "cell_type": "code",
      "source": [
        "!pip install -q \"transformers==4.41.2\""
      ],
      "metadata": {
        "id": "ZGDgVaGN8gBC"
      },
      "execution_count": null,
      "outputs": []
    },
    {
      "cell_type": "code",
      "execution_count": null,
      "metadata": {
        "id": "oeFXfJRdYpdG"
      },
      "outputs": [],
      "source": [
        "from transformers import pipeline"
      ]
    },
    {
      "cell_type": "markdown",
      "source": [
        "# At firsrt, check as a test:"
      ],
      "metadata": {
        "id": "oev4WsEkc6Wk"
      }
    },
    {
      "cell_type": "code",
      "source": [
        "chatbot= pipeline(\"text2text-generation\", model=\"facebook/blenderbot-400M-distill\")"
      ],
      "metadata": {
        "id": "itn7l6MFZFHd"
      },
      "execution_count": null,
      "outputs": []
    },
    {
      "cell_type": "code",
      "source": [
        "chatbot.__dict__.keys()"
      ],
      "metadata": {
        "colab": {
          "base_uri": "https://localhost:8080/"
        },
        "id": "SL--8l-Jah7J",
        "outputId": "a85432db-e0a6-4448-b92a-158cf976cb78"
      },
      "execution_count": null,
      "outputs": [
        {
          "output_type": "execute_result",
          "data": {
            "text/plain": [
              "dict_keys(['task', 'model', 'tokenizer', 'feature_extractor', 'image_processor', 'modelcard', 'framework', 'device', 'binary_output', 'call_count', '_batch_size', '_num_workers', '_preprocess_params', '_forward_params', '_postprocess_params'])"
            ]
          },
          "metadata": {},
          "execution_count": 4
        }
      ]
    },
    {
      "cell_type": "code",
      "source": [
        "patient_message=\"\"\"\n",
        "I have headache and pain in my stomach. give me advise what should i do? which doctor should see me?\n",
        "\"\"\""
      ],
      "metadata": {
        "id": "3uDeUVtOZL7P"
      },
      "execution_count": null,
      "outputs": []
    },
    {
      "cell_type": "code",
      "source": [
        "print(chatbot(patient_message) )"
      ],
      "metadata": {
        "colab": {
          "base_uri": "https://localhost:8080/"
        },
        "id": "6AJSZxVwZpoT",
        "outputId": "a416a037-e1de-48c2-97c4-356f98f4383c"
      },
      "execution_count": null,
      "outputs": [
        {
          "output_type": "stream",
          "name": "stdout",
          "text": [
            "[{'generated_text': ' I would go to the ER and get it checked out as soon as possible.'}]\n"
          ]
        }
      ]
    },
    {
      "cell_type": "code",
      "source": [
        "# it maked the response generate different each time:\n",
        "response=chatbot(patient_message,max_new_tokens=50, do_sample=True, temperature=0.6,top_p=0.8 ,top_k=10)[0][\"generated_text\"]"
      ],
      "metadata": {
        "id": "K4VAOXW6Z0Y5"
      },
      "execution_count": null,
      "outputs": []
    },
    {
      "cell_type": "code",
      "source": [
        "print(response)"
      ],
      "metadata": {
        "colab": {
          "base_uri": "https://localhost:8080/"
        },
        "id": "cIYCtpt5bJdZ",
        "outputId": "50bf7448-14e4-4ae4-ef24-742230203235"
      },
      "execution_count": null,
      "outputs": [
        {
          "output_type": "stream",
          "name": "stdout",
          "text": [
            " I would go to the ER and see if you have a headache or a sore throat.\n"
          ]
        }
      ]
    },
    {
      "cell_type": "markdown",
      "source": [
        "# Now define as a function and apply KG:"
      ],
      "metadata": {
        "id": "Qrdb3Cp2dINH"
      }
    },
    {
      "cell_type": "code",
      "source": [
        "# Text2text chatbot\n",
        "chatbot = pipeline(\"text2text-generation\", model=\"facebook/blenderbot-400M-distill\")\n",
        "\n",
        "def generate_reply(msg, do_sample=True, temperature=0.6, top_p=0.8, top_k=10, max_new_tokens=200):\n",
        "    out = chatbot(\n",
        "        msg,\n",
        "        do_sample=do_sample,\n",
        "        temperature=temperature,\n",
        "        top_p=top_p,\n",
        "        top_k=top_k,\n",
        "        max_new_tokens=max_new_tokens\n",
        "    )[0][\"generated_text\"]\n",
        "    return out\n",
        "\n",
        "patient_message = \"I have headache and pain in my stomach. What should I do? Which doctor should I see?\"\n",
        "print(\"Deterministic:\\n\", generate_reply(patient_message, do_sample=False))\n",
        "print(\"\\nSampled:\\n\", generate_reply(patient_message, do_sample=True))\n"
      ],
      "metadata": {
        "colab": {
          "base_uri": "https://localhost:8080/"
        },
        "id": "8V9on_iU-wV7",
        "outputId": "008559a6-d5d3-41a3-a33b-52e7027c3e24"
      },
      "execution_count": null,
      "outputs": [
        {
          "output_type": "stream",
          "name": "stderr",
          "text": [
            "/usr/local/lib/python3.12/dist-packages/transformers/generation/configuration_utils.py:515: UserWarning: `do_sample` is set to `False`. However, `temperature` is set to `0.6` -- this flag is only used in sample-based generation modes. You should set `do_sample=True` or unset `temperature`.\n",
            "  warnings.warn(\n",
            "/usr/local/lib/python3.12/dist-packages/transformers/generation/configuration_utils.py:520: UserWarning: `do_sample` is set to `False`. However, `top_p` is set to `0.8` -- this flag is only used in sample-based generation modes. You should set `do_sample=True` or unset `top_p`.\n",
            "  warnings.warn(\n",
            "/usr/local/lib/python3.12/dist-packages/transformers/generation/configuration_utils.py:537: UserWarning: `do_sample` is set to `False`. However, `top_k` is set to `10` -- this flag is only used in sample-based generation modes. You should set `do_sample=True` or unset `top_k`.\n",
            "  warnings.warn(\n"
          ]
        },
        {
          "output_type": "stream",
          "name": "stdout",
          "text": [
            "Deterministic:\n",
            "  I would go to the ER and get it checked out.  I hope you feel better soon!\n",
            "\n",
            "Sampled:\n",
            "  I would go to the ER and see if you have a sinus infection. \n"
          ]
        }
      ]
    },
    {
      "cell_type": "code",
      "source": [
        "import pandas as pd\n",
        "\n",
        "def generate_batch(messages, **gen_kwargs):\n",
        "    return [generate_reply(m, **gen_kwargs) for m in messages]\n",
        "\n",
        "messages = [\n",
        "    \"I have persistent cough and fever.\",\n",
        "    \"My lower back hurts, especially in the morning.\",\n",
        "    \"I feel chest tightness after climbing stairs.\"\n",
        "]\n",
        "\n",
        "batch_outputs = generate_batch(messages, do_sample=False)\n",
        "\n",
        "# Build a DataFrame\n",
        "df = pd.DataFrame({\n",
        "    \"user_message\": messages,\n",
        "    \"bot_response\": batch_outputs\n",
        "})\n",
        "\n",
        "print(df)\n",
        "\n",
        "# optional: save to CSV\n",
        "df.to_csv(\"chatbot_batch_results.csv\", index=False)\n",
        "\n"
      ],
      "metadata": {
        "colab": {
          "base_uri": "https://localhost:8080/"
        },
        "id": "OOKMKtsn-xe1",
        "outputId": "420a9928-f319-4e93-b2e4-410b44800625"
      },
      "execution_count": null,
      "outputs": [
        {
          "output_type": "stream",
          "name": "stdout",
          "text": [
            "                                      user_message  \\\n",
            "0               I have persistent cough and fever.   \n",
            "1  My lower back hurts, especially in the morning.   \n",
            "2    I feel chest tightness after climbing stairs.   \n",
            "\n",
            "                                        bot_response  \n",
            "0   Oh no!  I hope you feel better soon.  Are you...  \n",
            "1   I'm sorry to hear that. Have you seen a docto...  \n",
            "2   I'm sorry to hear that. Have you been doing i...  \n"
          ]
        }
      ]
    },
    {
      "cell_type": "markdown",
      "source": [
        "## I recommend these two Youtube links and posts on Medium for undesrtanding knowledge graph:\n",
        "\n",
        "### 1. https://www.youtube.com/watch?v=u7Z6osuKPqw&t=875s\n",
        "### 2. https://www.youtube.com/watch?v=n7BTWc2C1Eg\n",
        "### 3. https://www.youtube.com/watch?v=8eDWmLp_TKA&t=1808s\n",
        "  \n",
        "### 4. https://lopezyse.medium.com/make-interactive-knowledge-graphs-with-python-cfe520482197\n",
        "\n",
        "### 5. https://lopezyse.medium.com/knowledge-graphs-from-scratch-with-python-f3c2a05914cc\n",
        "\n"
      ],
      "metadata": {
        "id": "n_T5knU0eMNs"
      }
    },
    {
      "cell_type": "code",
      "source": [
        "import networkx as nx\n",
        "print(nx.__version__)\n"
      ],
      "metadata": {
        "colab": {
          "base_uri": "https://localhost:8080/"
        },
        "id": "lz7FBuynB4xD",
        "outputId": "814eedf8-04ef-41a1-d99c-b442967d6bb5"
      },
      "execution_count": null,
      "outputs": [
        {
          "output_type": "stream",
          "name": "stdout",
          "text": [
            "3.5\n"
          ]
        }
      ]
    },
    {
      "cell_type": "code",
      "source": [
        "import networkx as nx\n",
        "import re\n",
        "\n",
        "# --- A) Define specialties and a small symptom→specialty mapping (weights ~ typicality) ---\n",
        "specialties = [\"neurology\", \"gastroenterology\", \"cardiology\", \"pulmonology\", \"orthopedics\", \"general_practice\"]\n",
        "\n",
        "symptom_specialty = {\n",
        "    \"headache\": {\"neurology\": 0.9, \"general_practice\": 0.6},\n",
        "    \"stomach pain\": {\"gastroenterology\": 0.9, \"general_practice\": 0.6},\n",
        "    \"nausea\": {\"gastroenterology\": 0.6, \"general_practice\": 0.5},\n",
        "    \"fever\": {\"general_practice\": 0.8, \"pulmonology\": 0.5},\n",
        "    \"cough\": {\"pulmonology\": 0.9, \"general_practice\": 0.6},\n",
        "    \"chest tightness\": {\"cardiology\": 0.85, \"pulmonology\": 0.5},\n",
        "    \"shortness of breath\": {\"pulmonology\": 0.85, \"cardiology\": 0.5},\n",
        "    \"lower back pain\": {\"orthopedics\": 0.85, \"general_practice\": 0.6},\n",
        "}"
      ],
      "metadata": {
        "id": "oHYBmYFBBPyd"
      },
      "execution_count": null,
      "outputs": []
    },
    {
      "cell_type": "code",
      "source": [
        "G = nx.Graph()\n",
        "for spec in specialties:\n",
        "    G.add_node(spec, type=\"specialty\")"
      ],
      "metadata": {
        "id": "H61n5biXCxOB"
      },
      "execution_count": null,
      "outputs": []
    },
    {
      "cell_type": "code",
      "source": [
        "for sym, mp in symptom_specialty.items():\n",
        "    G.add_node(sym, type=\"symptom\")\n",
        "    for spec, w in mp.items():\n",
        "        G.add_edge(sym, spec, weight=w)"
      ],
      "metadata": {
        "id": "pRY5p2pvC1R6"
      },
      "execution_count": null,
      "outputs": []
    },
    {
      "cell_type": "code",
      "source": [
        "import matplotlib.pyplot as plt\n",
        "\n",
        "\n",
        "pos = nx.spring_layout(G, seed=42, k=0.8)\n",
        "\n",
        "\n",
        "symptom_nodes = [n for n, d in G.nodes(data=True) if d[\"type\"] == \"symptom\"]\n",
        "specialty_nodes = [n for n, d in G.nodes(data=True) if d[\"type\"] == \"specialty\"]\n",
        "\n",
        "plt.figure(figsize=(10, 7))\n",
        "\n",
        "# Draw nodes\n",
        "nx.draw_networkx_nodes(G, pos, nodelist=symptom_nodes, node_color=\"gold\", node_shape=\"o\", node_size=900, label=\"Symptoms\")\n",
        "nx.draw_networkx_nodes(G, pos, nodelist=specialty_nodes, node_color=\"skyblue\", node_shape=\"s\", node_size=1100, label=\"Specialties\")\n",
        "\n",
        "# Draw edges with thickness ∝ weight\n",
        "edges = nx.get_edge_attributes(G, \"weight\")\n",
        "nx.draw_networkx_edges(G, pos, width=[3 * w for w in edges.values()], alpha=0.6)\n",
        "\n",
        "# Labels\n",
        "nx.draw_networkx_labels(G, pos, font_size=10, font_family=\"sans-serif\")\n",
        "\n",
        "plt.title(\"Symptom → Specialty Knowledge Graph\", fontsize=14)\n",
        "plt.legend(scatterpoints=1)\n",
        "plt.axis(\"off\")\n",
        "plt.show()\n"
      ],
      "metadata": {
        "colab": {
          "base_uri": "https://localhost:8080/",
          "height": 599
        },
        "id": "wd0MO3kQC4Yo",
        "outputId": "92c97918-b7f0-4f82-b75b-a2fd2a8246ba"
      },
      "execution_count": null,
      "outputs": [
        {
          "output_type": "display_data",
          "data": {
            "text/plain": [
              "<Figure size 1000x700 with 1 Axes>"
            ],
            "image/png": "[encoded data removed]"
          },
          "metadata": {}
        }
      ]
    },
    {
      "cell_type": "markdown",
      "source": [
        "### Text Processing using Regex:\n",
        "### https://medium.com/%40monicanogueras/15-examples-for-advanced-text-processing-using-regex-48223adc720d"
      ],
      "metadata": {
        "id": "Fc4YO9M0JvNe"
      }
    },
    {
      "cell_type": "code",
      "source": [
        "import re\n",
        "\n",
        "def extract_symptoms_from_text(text):\n",
        "    \"\"\"Find known symptoms or synonyms in the text and return canonical names.\"\"\"\n",
        "    matches = []\n",
        "    for sym in symptom_specialty:\n",
        "        if sym in text:\n",
        "            matches.append(sym)\n",
        "    return list(matches)\n",
        "\n",
        "\n",
        "def score_specialties(symptoms):\n",
        "    \"\"\"Add up specialty scores for each symptom and return top list.\"\"\"\n",
        "    scores = {}\n",
        "\n",
        "    for sym in symptoms:\n",
        "        if sym in symptom_specialty:\n",
        "            for spec, w in symptom_specialty[sym].items():\n",
        "                # add weight to this specialty\n",
        "                scores[spec] = scores.get(spec, 0) + w\n",
        "        else:\n",
        "            # fallback for unknown symptom\n",
        "            scores[\"general_practice\"] = scores.get(\"general_practice\", 0) + 0.2\n",
        "\n",
        "    # sort by score, highest first\n",
        "    ranked = sorted(scores.items(), key=lambda x: x[1], reverse=True)\n",
        "    return ranked, scores\n",
        "\n",
        "def explain_recommendation(symptoms, ranked, scores):\n",
        "    \"\"\"Make a short explanation string.\"\"\"\n",
        "    if not symptoms:\n",
        "        return \"No symptoms recognized; recommend general practice.\"\n",
        "    top_spec, top_score = ranked[0]\n",
        "    return f\"Symptoms {symptoms} → best specialty: {top_spec} (score={top_score:.2f})\"\n"
      ],
      "metadata": {
        "id": "rTOYHQWdDQLS"
      },
      "execution_count": null,
      "outputs": []
    },
    {
      "cell_type": "code",
      "source": [
        "df[\"extracted_symptoms\"] = df[\"user_message\"].apply(extract_symptoms_from_text)\n",
        "\n",
        "df[\"specialty_scores\"] = df[\"extracted_symptoms\"].apply(lambda syms: score_specialties(syms)[1])\n",
        "df[\"top_specialty\"] = df[\"extracted_symptoms\"].apply(lambda syms: score_specialties(syms)[0][0][0] if syms else \"general_practice\")\n",
        "df[\"kg_explanation\"] = df.apply(\n",
        "    lambda row: explain_recommendation(row[\"extracted_symptoms\"], *score_specialties(row[\"extracted_symptoms\"])),\n",
        "    axis=1\n",
        ")\n",
        "\n",
        "df\n"
      ],
      "metadata": {
        "colab": {
          "base_uri": "https://localhost:8080/",
          "height": 265
        },
        "id": "i9OJmrruEnYb",
        "outputId": "cdf3a93d-52d7-4de1-b799-640a1a3bd726"
      },
      "execution_count": null,
      "outputs": [
        {
          "output_type": "execute_result",
          "data": {
            "text/plain": [
              "                                      user_message  \\\n",
              "0               I have persistent cough and fever.   \n",
              "1  My lower back hurts, especially in the morning.   \n",
              "2    I feel chest tightness after climbing stairs.   \n",
              "\n",
              "                                        bot_response extracted_symptoms  \\\n",
              "0   Oh no!  I hope you feel better soon.  Are you...     [fever, cough]   \n",
              "1   I'm sorry to hear that. Have you seen a docto...                 []   \n",
              "2   I'm sorry to hear that. Have you been doing i...  [chest tightness]   \n",
              "\n",
              "                                specialty_scores     top_specialty  \\\n",
              "0  {'general_practice': 1.4, 'pulmonology': 1.4}  general_practice   \n",
              "1                                             {}  general_practice   \n",
              "2       {'cardiology': 0.85, 'pulmonology': 0.5}        cardiology   \n",
              "\n",
              "                                      kg_explanation  \n",
              "0  Symptoms ['fever', 'cough'] → best specialty: ...  \n",
              "1  No symptoms recognized; recommend general prac...  \n",
              "2  Symptoms ['chest tightness'] → best specialty:...  "
            ],
            "text/html": [
              "\n",
              "  <div id=\"df-b484e5aa-bfe2-420d-8600-31b38841048e\" class=\"colab-df-container\">\n",
              "    <div>\n",
              "<style scoped>\n",
              "    .dataframe tbody tr th:only-of-type {\n",
              "        vertical-align: middle;\n",
              "    }\n",
              "\n",
              "    .dataframe tbody tr th {\n",
              "        vertical-align: top;\n",
              "    }\n",
              "\n",
              "    .dataframe thead th {\n",
              "        text-align: right;\n",
              "    }\n",
              "</style>\n",
              "<table border=\"1\" class=\"dataframe\">\n",
              "  <thead>\n",
              "    <tr style=\"text-align: right;\">\n",
              "      <th></th>\n",
              "      <th>user_message</th>\n",
              "      <th>bot_response</th>\n",
              "      <th>extracted_symptoms</th>\n",
              "      <th>specialty_scores</th>\n",
              "      <th>top_specialty</th>\n",
              "      <th>kg_explanation</th>\n",
              "    </tr>\n",
              "  </thead>\n",
              "  <tbody>\n",
              "    <tr>\n",
              "      <th>0</th>\n",
              "      <td>I have persistent cough and fever.</td>\n",
              "      <td>Oh no!  I hope you feel better soon.  Are you...</td>\n",
              "      <td>[fever, cough]</td>\n",
              "      <td>{'general_practice': 1.4, 'pulmonology': 1.4}</td>\n",
              "      <td>general_practice</td>\n",
              "      <td>Symptoms ['fever', 'cough'] → best specialty: ...</td>\n",
              "    </tr>\n",
              "    <tr>\n",
              "      <th>1</th>\n",
              "      <td>My lower back hurts, especially in the morning.</td>\n",
              "      <td>I'm sorry to hear that. Have you seen a docto...</td>\n",
              "      <td>[]</td>\n",
              "      <td>{}</td>\n",
              "      <td>general_practice</td>\n",
              "      <td>No symptoms recognized; recommend general prac...</td>\n",
              "    </tr>\n",
              "    <tr>\n",
              "      <th>2</th>\n",
              "      <td>I feel chest tightness after climbing stairs.</td>\n",
              "      <td>I'm sorry to hear that. Have you been doing i...</td>\n",
              "      <td>[chest tightness]</td>\n",
              "      <td>{'cardiology': 0.85, 'pulmonology': 0.5}</td>\n",
              "      <td>cardiology</td>\n",
              "      <td>Symptoms ['chest tightness'] → best specialty:...</td>\n",
              "    </tr>\n",
              "  </tbody>\n",
              "</table>\n",
              "</div>\n",
              "    <div class=\"colab-df-buttons\">\n",
              "\n",
              "  <div class=\"colab-df-container\">\n",
              "    <button class=\"colab-df-convert\" onclick=\"convertToInteractive('df-b484e5aa-bfe2-420d-8600-31b38841048e')\"\n",
              "            title=\"Convert this dataframe to an interactive table.\"\n",
              "            style=\"display:none;\">\n",
              "\n",
              "  <svg xmlns=\"http://www.w3.org/2000/svg\" height=\"24px\" viewBox=\"0 -960 960 960\">\n",
              "    <path d=\"M120-120v-720h720v720H120Zm60-500h600v-160H180v160Zm220 220h160v-160H400v160Zm0 220h160v-160H400v160ZM180-400h160v-160H180v160Zm440 0h160v-160H620v160ZM180-180h160v-160H180v160Zm440 0h160v-160H620v160Z\"/>\n",
              "  </svg>\n",
              "    </button>\n",
              "\n",
              "  <style>\n",
              "    .colab-df-container {\n",
              "      display:flex;\n",
              "      gap: 12px;\n",
              "    }\n",
              "\n",
              "    .colab-df-convert {\n",
              "      background-color: #E8F0FE;\n",
              "      border: none;\n",
              "      border-radius: 50%;\n",
              "      cursor: pointer;\n",
              "      display: none;\n",
              "      fill: #1967D2;\n",
              "      height: 32px;\n",
              "      padding: 0 0 0 0;\n",
              "      width: 32px;\n",
              "    }\n",
              "\n",
              "    .colab-df-convert:hover {\n",
              "      background-color: #E2EBFA;\n",
              "      box-shadow: 0px 1px 2px rgba(60, 64, 67, 0.3), 0px 1px 3px 1px rgba(60, 64, 67, 0.15);\n",
              "      fill: #174EA6;\n",
              "    }\n",
              "\n",
              "    .colab-df-buttons div {\n",
              "      margin-bottom: 4px;\n",
              "    }\n",
              "\n",
              "    [theme=dark] .colab-df-convert {\n",
              "      background-color: #3B4455;\n",
              "      fill: #D2E3FC;\n",
              "    }\n",
              "\n",
              "    [theme=dark] .colab-df-convert:hover {\n",
              "      background-color: #434B5C;\n",
              "      box-shadow: 0px 1px 3px 1px rgba(0, 0, 0, 0.15);\n",
              "      filter: drop-shadow(0px 1px 2px rgba(0, 0, 0, 0.3));\n",
              "      fill: #FFFFFF;\n",
              "    }\n",
              "  </style>\n",
              "\n",
              "    <script>\n",
              "      const buttonEl =\n",
              "        document.querySelector('#df-b484e5aa-bfe2-420d-8600-31b38841048e button.colab-df-convert');\n",
              "      buttonEl.style.display =\n",
              "        google.colab.kernel.accessAllowed ? 'block' : 'none';\n",
              "\n",
              "      async function convertToInteractive(key) {\n",
              "        const element = document.querySelector('#df-b484e5aa-bfe2-420d-8600-31b38841048e');\n",
              "        const dataTable =\n",
              "          await google.colab.kernel.invokeFunction('convertToInteractive',\n",
              "                                                    [key], {});\n",
              "        if (!dataTable) return;\n",
              "\n",
              "        const docLinkHtml = 'Like what you see? Visit the ' +\n",
              "          '<a target=\"_blank\" href=https://colab.research.google.com/notebooks/data_table.ipynb>data table notebook</a>'\n",
              "          + ' to learn more about interactive tables.';\n",
              "        element.innerHTML = '';\n",
              "        dataTable['output_type'] = 'display_data';\n",
              "        await google.colab.output.renderOutput(dataTable, element);\n",
              "        const docLink = document.createElement('div');\n",
              "        docLink.innerHTML = docLinkHtml;\n",
              "        element.appendChild(docLink);\n",
              "      }\n",
              "    </script>\n",
              "  </div>\n",
              "\n",
              "\n",
              "    <div id=\"df-6b9fa55b-4757-4aef-a1fb-38f9eca86d58\">\n",
              "      <button class=\"colab-df-quickchart\" onclick=\"quickchart('df-6b9fa55b-4757-4aef-a1fb-38f9eca86d58')\"\n",
              "                title=\"Suggest charts\"\n",
              "                style=\"display:none;\">\n",
              "\n",
              "<svg xmlns=\"http://www.w3.org/2000/svg\" height=\"24px\"viewBox=\"0 0 24 24\"\n",
              "     width=\"24px\">\n",
              "    <g>\n",
              "        <path d=\"M19 3H5c-1.1 0-2 .9-2 2v14c0 1.1.9 2 2 2h14c1.1 0 2-.9 2-2V5c0-1.1-.9-2-2-2zM9 17H7v-7h2v7zm4 0h-2V7h2v10zm4 0h-2v-4h2v4z\"/>\n",
              "    </g>\n",
              "</svg>\n",
              "      </button>\n",
              "\n",
              "<style>\n",
              "  .colab-df-quickchart {\n",
              "      --bg-color: #E8F0FE;\n",
              "      --fill-color: #1967D2;\n",
              "      --hover-bg-color: #E2EBFA;\n",
              "      --hover-fill-color: #174EA6;\n",
              "      --disabled-fill-color: #AAA;\n",
              "      --disabled-bg-color: #DDD;\n",
              "  }\n",
              "\n",
              "  [theme=dark] .colab-df-quickchart {\n",
              "      --bg-color: #3B4455;\n",
              "      --fill-color: #D2E3FC;\n",
              "      --hover-bg-color: #434B5C;\n",
              "      --hover-fill-color: #FFFFFF;\n",
              "      --disabled-bg-color: #3B4455;\n",
              "      --disabled-fill-color: #666;\n",
              "  }\n",
              "\n",
              "  .colab-df-quickchart {\n",
              "    background-color: var(--bg-color);\n",
              "    border: none;\n",
              "    border-radius: 50%;\n",
              "    cursor: pointer;\n",
              "    display: none;\n",
              "    fill: var(--fill-color);\n",
              "    height: 32px;\n",
              "    padding: 0;\n",
              "    width: 32px;\n",
              "  }\n",
              "\n",
              "  .colab-df-quickchart:hover {\n",
              "    background-color: var(--hover-bg-color);\n",
              "    box-shadow: 0 1px 2px rgba(60, 64, 67, 0.3), 0 1px 3px 1px rgba(60, 64, 67, 0.15);\n",
              "    fill: var(--button-hover-fill-color);\n",
              "  }\n",
              "\n",
              "  .colab-df-quickchart-complete:disabled,\n",
              "  .colab-df-quickchart-complete:disabled:hover {\n",
              "    background-color: var(--disabled-bg-color);\n",
              "    fill: var(--disabled-fill-color);\n",
              "    box-shadow: none;\n",
              "  }\n",
              "\n",
              "  .colab-df-spinner {\n",
              "    border: 2px solid var(--fill-color);\n",
              "    border-color: transparent;\n",
              "    border-bottom-color: var(--fill-color);\n",
              "    animation:\n",
              "      spin 1s steps(1) infinite;\n",
              "  }\n",
              "\n",
              "  @keyframes spin {\n",
              "    0% {\n",
              "      border-color: transparent;\n",
              "      border-bottom-color: var(--fill-color);\n",
              "      border-left-color: var(--fill-color);\n",
              "    }\n",
              "    20% {\n",
              "      border-color: transparent;\n",
              "      border-left-color: var(--fill-color);\n",
              "      border-top-color: var(--fill-color);\n",
              "    }\n",
              "    30% {\n",
              "      border-color: transparent;\n",
              "      border-left-color: var(--fill-color);\n",
              "      border-top-color: var(--fill-color);\n",
              "      border-right-color: var(--fill-color);\n",
              "    }\n",
              "    40% {\n",
              "      border-color: transparent;\n",
              "      border-right-color: var(--fill-color);\n",
              "      border-top-color: var(--fill-color);\n",
              "    }\n",
              "    60% {\n",
              "      border-color: transparent;\n",
              "      border-right-color: var(--fill-color);\n",
              "    }\n",
              "    80% {\n",
              "      border-color: transparent;\n",
              "      border-right-color: var(--fill-color);\n",
              "      border-bottom-color: var(--fill-color);\n",
              "    }\n",
              "    90% {\n",
              "      border-color: transparent;\n",
              "      border-bottom-color: var(--fill-color);\n",
              "    }\n",
              "  }\n",
              "</style>\n",
              "\n",
              "      <script>\n",
              "        async function quickchart(key) {\n",
              "          const quickchartButtonEl =\n",
              "            document.querySelector('#' + key + ' button');\n",
              "          quickchartButtonEl.disabled = true;  // To prevent multiple clicks.\n",
              "          quickchartButtonEl.classList.add('colab-df-spinner');\n",
              "          try {\n",
              "            const charts = await google.colab.kernel.invokeFunction(\n",
              "                'suggestCharts', [key], {});\n",
              "          } catch (error) {\n",
              "            console.error('Error during call to suggestCharts:', error);\n",
              "          }\n",
              "          quickchartButtonEl.classList.remove('colab-df-spinner');\n",
              "          quickchartButtonEl.classList.add('colab-df-quickchart-complete');\n",
              "        }\n",
              "        (() => {\n",
              "          let quickchartButtonEl =\n",
              "            document.querySelector('#df-6b9fa55b-4757-4aef-a1fb-38f9eca86d58 button');\n",
              "          quickchartButtonEl.style.display =\n",
              "            google.colab.kernel.accessAllowed ? 'block' : 'none';\n",
              "        })();\n",
              "      </script>\n",
              "    </div>\n",
              "\n",
              "  <div id=\"id_6f0add07-da9d-4646-a4ff-e70107e40eb9\">\n",
              "    <style>\n",
              "      .colab-df-generate {\n",
              "        background-color: #E8F0FE;\n",
              "        border: none;\n",
              "        border-radius: 50%;\n",
              "        cursor: pointer;\n",
              "        display: none;\n",
              "        fill: #1967D2;\n",
              "        height: 32px;\n",
              "        padding: 0 0 0 0;\n",
              "        width: 32px;\n",
              "      }\n",
              "\n",
              "      .colab-df-generate:hover {\n",
              "        background-color: #E2EBFA;\n",
              "        box-shadow: 0px 1px 2px rgba(60, 64, 67, 0.3), 0px 1px 3px 1px rgba(60, 64, 67, 0.15);\n",
              "        fill: #174EA6;\n",
              "      }\n",
              "\n",
              "      [theme=dark] .colab-df-generate {\n",
              "        background-color: #3B4455;\n",
              "        fill: #D2E3FC;\n",
              "      }\n",
              "\n",
              "      [theme=dark] .colab-df-generate:hover {\n",
              "        background-color: #434B5C;\n",
              "        box-shadow: 0px 1px 3px 1px rgba(0, 0, 0, 0.15);\n",
              "        filter: drop-shadow(0px 1px 2px rgba(0, 0, 0, 0.3));\n",
              "        fill: #FFFFFF;\n",
              "      }\n",
              "    </style>\n",
              "    <button class=\"colab-df-generate\" onclick=\"generateWithVariable('df')\"\n",
              "            title=\"Generate code using this dataframe.\"\n",
              "            style=\"display:none;\">\n",
              "\n",
              "  <svg xmlns=\"http://www.w3.org/2000/svg\" height=\"24px\"viewBox=\"0 0 24 24\"\n",
              "       width=\"24px\">\n",
              "    <path d=\"M7,19H8.4L18.45,9,17,7.55,7,17.6ZM5,21V16.75L18.45,3.32a2,2,0,0,1,2.83,0l1.4,1.43a1.91,1.91,0,0,1,.58,1.4,1.91,1.91,0,0,1-.58,1.4L9.25,21ZM18.45,9,17,7.55Zm-12,3A5.31,5.31,0,0,0,4.9,8.1,5.31,5.31,0,0,0,1,6.5,5.31,5.31,0,0,0,4.9,4.9,5.31,5.31,0,0,0,6.5,1,5.31,5.31,0,0,0,8.1,4.9,5.31,5.31,0,0,0,12,6.5,5.46,5.46,0,0,0,6.5,12Z\"/>\n",
              "  </svg>\n",
              "    </button>\n",
              "    <script>\n",
              "      (() => {\n",
              "      const buttonEl =\n",
              "        document.querySelector('#id_6f0add07-da9d-4646-a4ff-e70107e40eb9 button.colab-df-generate');\n",
              "      buttonEl.style.display =\n",
              "        google.colab.kernel.accessAllowed ? 'block' : 'none';\n",
              "\n",
              "      buttonEl.onclick = () => {\n",
              "        google.colab.notebook.generateWithVariable('df');\n",
              "      }\n",
              "      })();\n",
              "    </script>\n",
              "  </div>\n",
              "\n",
              "    </div>\n",
              "  </div>\n"
            ],
            "application/vnd.google.colaboratory.intrinsic+json": {
              "type": "dataframe",
              "variable_name": "df",
              "summary": "{\n  \"name\": \"df\",\n  \"rows\": 3,\n  \"fields\": [\n    {\n      \"column\": \"user_message\",\n      \"properties\": {\n        \"dtype\": \"string\",\n        \"num_unique_values\": 3,\n        \"samples\": [\n          \"I have persistent cough and fever.\",\n          \"My lower back hurts, especially in the morning.\",\n          \"I feel chest tightness after climbing stairs.\"\n        ],\n        \"semantic_type\": \"\",\n        \"description\": \"\"\n      }\n    },\n    {\n      \"column\": \"bot_response\",\n      \"properties\": {\n        \"dtype\": \"string\",\n        \"num_unique_values\": 3,\n        \"samples\": [\n          \" Oh no!  I hope you feel better soon.  Are you going to go to the doctor?\",\n          \" I'm sorry to hear that. Have you seen a doctor about it? I hope it's nothing serious.\",\n          \" I'm sorry to hear that. Have you been doing it a long time? \"\n        ],\n        \"semantic_type\": \"\",\n        \"description\": \"\"\n      }\n    },\n    {\n      \"column\": \"extracted_symptoms\",\n      \"properties\": {\n        \"dtype\": \"object\",\n        \"semantic_type\": \"\",\n        \"description\": \"\"\n      }\n    },\n    {\n      \"column\": \"specialty_scores\",\n      \"properties\": {\n        \"dtype\": \"object\",\n        \"semantic_type\": \"\",\n        \"description\": \"\"\n      }\n    },\n    {\n      \"column\": \"top_specialty\",\n      \"properties\": {\n        \"dtype\": \"string\",\n        \"num_unique_values\": 2,\n        \"samples\": [\n          \"cardiology\",\n          \"general_practice\"\n        ],\n        \"semantic_type\": \"\",\n        \"description\": \"\"\n      }\n    },\n    {\n      \"column\": \"kg_explanation\",\n      \"properties\": {\n        \"dtype\": \"string\",\n        \"num_unique_values\": 3,\n        \"samples\": [\n          \"Symptoms ['fever', 'cough'] \\u2192 best specialty: general_practice (score=1.40)\",\n          \"No symptoms recognized; recommend general practice.\"\n        ],\n        \"semantic_type\": \"\",\n        \"description\": \"\"\n      }\n    }\n  ]\n}"
            }
          },
          "metadata": {},
          "execution_count": 16
        }
      ]
    },
    {
      "cell_type": "code",
      "source": [],
      "metadata": {
        "id": "opyiYuhTE-VY"
      },
      "execution_count": null,
      "outputs": []
    }
  ]
}